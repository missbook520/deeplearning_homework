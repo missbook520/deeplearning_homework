{
 "cells": [
  {
   "cell_type": "code",
   "execution_count": 26,
   "metadata": {},
   "outputs": [],
   "source": [
    "from lr_utils import *\n",
    "import matplotlib.pyplot as plt\n",
    "import numpy as np\n",
    "from sklearn.metrics import accuracy_score,confusion_matrix,classification_report"
   ]
  },
  {
   "cell_type": "code",
   "execution_count": 22,
   "metadata": {},
   "outputs": [],
   "source": [
    "class logisticregression(object):\n",
    "    def __init__(self):\n",
    "        self.weight=None\n",
    "        self.coef=None #数据维度\n",
    "        self.intercept=None\n",
    "    #def fit(x_train,y_train):\n",
    "    def _simoid(self,x):\n",
    "        return 1/(1+np.exp(-x))\n",
    "    def fit(self,x_train,y_train,lr=0.01,n_iters=1e4):\n",
    "        assert x_train.shape[0]==y_train.shape[0]\n",
    "        def J(theta,x_b,y):\n",
    "            p_predict=self._simoid(x_b.dot(theta))\n",
    "            try:\n",
    "                return -np.sum(y*np.log(p_predict)+(1-y)*np.log(1-p_predict)) / len(y)\n",
    "            except:\n",
    "                return float('inf')\n",
    "        def dJ(theta,x_b,y):\n",
    "            x=self._simoid(x_b.dot(theta))\n",
    "            return x_b.T.dot(x-y)/len(x_b)\n",
    "        def gradient(x_b,y,inital_theta,lr,n_iters=1e4,eplison=1e-8):\n",
    "            theta=inital_theta\n",
    "            i_iters=0\n",
    "            while i_iters < n_iters:\n",
    "                gradient=dJ(theta,x_b,y)\n",
    "                last_theta=theta\n",
    "                theta=theta-lr*gradient\n",
    "                i_iters+=1\n",
    "                if(abs(J(theta,x_b,y)-J(last_theta,x_b,y)) < eplison):\n",
    "                    break\n",
    "            return theta\n",
    "        x_b=np.hstack([np.ones((len(x_train),1)),x_train])\n",
    "        inital_theta=np.zeros((x_b.shape[1],1))\n",
    "        self._theta=gradient(x_b,y_train,inital_theta,lr,n_iters)\n",
    "        self.intercept_=self._theta[0]\n",
    "        self.coef_=self._theta[1:]\n",
    "        return self\n",
    "\n",
    "    def predict_pro(self,x_test):\n",
    "        x_b=np.hstack([np.ones((len(x_test),1)),x_test])\n",
    "        return self._simoid(x_b.dot(self._theta))\n",
    "    \n",
    "    def predict(self,x_test):\n",
    "        proba=self.predict_pro(x_test)\n",
    "        return np.array(proba >0.5,dtype='int')"
   ]
  },
  {
   "cell_type": "code",
   "execution_count": 2,
   "metadata": {},
   "outputs": [],
   "source": [
    "train_set_x_orig,train_set_y,test_set_x_orig,test_set_y,classes=load_dataset()"
   ]
  },
  {
   "cell_type": "code",
   "execution_count": 40,
   "metadata": {},
   "outputs": [
    {
     "name": "stdout",
     "output_type": "stream",
     "text": [
      "训练集的维度为： (209, 12288)\n",
      "训练集标签的维度为： (209, 1)\n",
      "测试集的维度为： (50, 12288)\n",
      "测试集标签的维度为： (50, 1)\n"
     ]
    }
   ],
   "source": [
    "train_x=train_set_x_orig.reshape((209,12288)) / 255\n",
    "train_y=train_set_y.T\n",
    "test_x=test_set_x_orig.reshape((-1,12288)) /255\n",
    "test_y=test_set_y.T\n",
    "print(\"训练集的维度为：\",train_x.shape)\n",
    "print(\"训练集标签的维度为：\",train_y.shape)\n",
    "print(\"测试集的维度为：\",test_x.shape)\n",
    "print(\"测试集标签的维度为：\",test_y.shape)\n",
    "\n",
    "#index=25\n",
    "#plt.imshow(train_set_x_orig[index])"
   ]
  },
  {
   "cell_type": "code",
   "execution_count": 23,
   "metadata": {},
   "outputs": [
    {
     "data": {
      "text/plain": [
       "<__main__.logisticregression at 0x17a65bf3c50>"
      ]
     },
     "execution_count": 23,
     "metadata": {},
     "output_type": "execute_result"
    }
   ],
   "source": [
    "logistic=logisticregression()\n",
    "logistic.fit(train_x,train_y)"
   ]
  },
  {
   "cell_type": "code",
   "execution_count": 39,
   "metadata": {},
   "outputs": [
    {
     "name": "stdout",
     "output_type": "stream",
     "text": [
      "This classifier'score is:0.720000\n",
      "              precision    recall  f1-score   support\n",
      "\n",
      "           0       0.57      0.76      0.65        17\n",
      "           1       0.85      0.70      0.77        33\n",
      "\n",
      "   micro avg       0.72      0.72      0.72        50\n",
      "   macro avg       0.71      0.73      0.71        50\n",
      "weighted avg       0.75      0.72      0.73        50\n",
      "\n"
     ]
    }
   ],
   "source": [
    "predict=logistic.predict(test_x)\n",
    "print(\"This classifier'score is:%f\"%(accuracy_score(test_y,predict)))\n",
    "print(classification_report(test_y,predict))"
   ]
  },
  {
   "cell_type": "code",
   "execution_count": 25,
   "metadata": {},
   "outputs": [
    {
     "data": {
      "text/plain": [
       "array([[1],\n",
       "       [1],\n",
       "       [1],\n",
       "       [1],\n",
       "       [1],\n",
       "       [0],\n",
       "       [1],\n",
       "       [1],\n",
       "       [1],\n",
       "       [1],\n",
       "       [1],\n",
       "       [1],\n",
       "       [1],\n",
       "       [0],\n",
       "       [0],\n",
       "       [1],\n",
       "       [0],\n",
       "       [1],\n",
       "       [1],\n",
       "       [1],\n",
       "       [1],\n",
       "       [0],\n",
       "       [0],\n",
       "       [1],\n",
       "       [1],\n",
       "       [1],\n",
       "       [1],\n",
       "       [0],\n",
       "       [1],\n",
       "       [0],\n",
       "       [1],\n",
       "       [1],\n",
       "       [1],\n",
       "       [1],\n",
       "       [0],\n",
       "       [0],\n",
       "       [0],\n",
       "       [1],\n",
       "       [0],\n",
       "       [0],\n",
       "       [1],\n",
       "       [1],\n",
       "       [1],\n",
       "       [0],\n",
       "       [0],\n",
       "       [0],\n",
       "       [1],\n",
       "       [1],\n",
       "       [1],\n",
       "       [0]], dtype=int64)"
      ]
     },
     "execution_count": 25,
     "metadata": {},
     "output_type": "execute_result"
    }
   ],
   "source": []
  }
 ],
 "metadata": {
  "kernelspec": {
   "display_name": "Python 3",
   "language": "python",
   "name": "python3"
  },
  "language_info": {
   "codemirror_mode": {
    "name": "ipython",
    "version": 3
   },
   "file_extension": ".py",
   "mimetype": "text/x-python",
   "name": "python",
   "nbconvert_exporter": "python",
   "pygments_lexer": "ipython3",
   "version": "3.7.3"
  },
  "toc": {
   "base_numbering": 1,
   "nav_menu": {},
   "number_sections": true,
   "sideBar": true,
   "skip_h1_title": false,
   "title_cell": "Table of Contents",
   "title_sidebar": "Contents",
   "toc_cell": false,
   "toc_position": {},
   "toc_section_display": true,
   "toc_window_display": false
  },
  "varInspector": {
   "cols": {
    "lenName": 16,
    "lenType": 16,
    "lenVar": 40
   },
   "kernels_config": {
    "python": {
     "delete_cmd_postfix": "",
     "delete_cmd_prefix": "del ",
     "library": "var_list.py",
     "varRefreshCmd": "print(var_dic_list())"
    },
    "r": {
     "delete_cmd_postfix": ") ",
     "delete_cmd_prefix": "rm(",
     "library": "var_list.r",
     "varRefreshCmd": "cat(var_dic_list()) "
    }
   },
   "types_to_exclude": [
    "module",
    "function",
    "builtin_function_or_method",
    "instance",
    "_Feature"
   ],
   "window_display": false
  }
 },
 "nbformat": 4,
 "nbformat_minor": 2
}
